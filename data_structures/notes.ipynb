{
 "metadata": {
  "language_info": {
   "codemirror_mode": {
    "name": "ipython",
    "version": 3
   },
   "file_extension": ".py",
   "mimetype": "text/x-python",
   "name": "python",
   "nbconvert_exporter": "python",
   "pygments_lexer": "ipython3",
   "version": 3
  },
  "orig_nbformat": 2,
  "kernelspec": {
   "name": "python_defaultSpec_1596172734068",
   "display_name": "Python 3.7.4 64-bit ('base': conda)"
  }
 },
 "nbformat": 4,
 "nbformat_minor": 2,
 "cells": [
  {
   "cell_type": "markdown",
   "metadata": {},
   "source": [
    "# Week 1\n",
    "## Array\n",
    "* *contiguous* area of memory \n",
    "* consisting of *equal* size elements\n",
    "* indexed by *contiguous* integer\n",
    "* *Constant* time ($O(1)$) access to any particular element in array for read and write because of simple airthmatic requirement to find the address of element. An example to find element address in one-dimensional array could be given by:\n",
    "  \n",
    "  *element_address = array_address + element_size * (element_index - first_index)*\n",
    "  \n",
    "  Simillar way for two dimensional array:\n",
    "  > *elelment_address = array_address + element_size * ((row_index - total_column)+(column_index - 1))*\n",
    "* Times for common operations:\n",
    "  |          | Add    | Remove |\n",
    "  | -------- | ------ | ------ |\n",
    "  | Begining | $O(n)$ | $O(n)$ |\n",
    "  | Middle   | $O(n)$ | $O(n)$ |\n",
    "  | End      | $O(1)$ | $O(1)$ |\n",
    "  Hence, cheap for addition or removal of element from end whereas as costly for beginning and middle\n",
    "\n",
    "## Linked Lists\n",
    "### Singly-Linked Lists\n",
    "* It is made of head and nodes\n",
    "* Head contains pointer to first node\n",
    "* Each node contains key (value) and pointer to next node\n",
    "* Time complexity on operations on Singly-Linked List:\n",
    "   | Singly-Linked list   | no tail | with tail |\n",
    "   | -------------------- | ------- | --------- |\n",
    "   | PushFront(key)       | $O(1)$  | $O(1)$    |\n",
    "   | Key TopFront         | $O(1)$  | $O(1)$    |\n",
    "   | PopFront()           | $O(1)$  | $O(1)$    |\n",
    "   | PushBack(key)        | $O(n)$  | $O(1)$    |\n",
    "   | Key TopBack          | $O(n)$  | $O(1)$    |\n",
    "   | PopBack              | $O(n)$  | $O(n)$    |\n",
    "   | Boolean Find(key)    | $O(n)$  | $O(n)$    |\n",
    "   | Erase(key)           | $O(n)$  | $O(n)$    |\n",
    "   | Boolean Empty()      | $O(1)$  | $O(1)$    |\n",
    "   | AddBefore(node, key) | $O(n)$  | $O(n)$    |\n",
    "   | AddAfter(node, key)  | $O(1)$  | $O(1)$    |\n",
    "\n",
    "### Doubly-Linked Lists\n",
    "* Similar to Singly liknked list but each node will have two pointers, one pointing to the  next elelment and other to the previous element\n",
    "* With doubly linked list PopBack() with tail and Addbefore(node, key) becomes $O(1)$ operation\n",
    "* Hence, double-linked list with tail is cheap to add or remove element from anywhere in the list and read or write element from front or back of the list whereas reading or writing element from middle is expensive.\n"
   ]
  },
  {
   "cell_type": "code",
   "execution_count": null,
   "metadata": {},
   "outputs": [],
   "source": []
  }
 ]
}