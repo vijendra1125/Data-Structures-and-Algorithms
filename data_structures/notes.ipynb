{
 "metadata": {
  "language_info": {
   "codemirror_mode": {
    "name": "ipython",
    "version": 3
   },
   "file_extension": ".py",
   "mimetype": "text/x-python",
   "name": "python",
   "nbconvert_exporter": "python",
   "pygments_lexer": "ipython3",
   "version": 3
  },
  "orig_nbformat": 2,
  "kernelspec": {
   "name": "python_defaultSpec_1596172734068",
   "display_name": "Python 3.7.4 64-bit ('base': conda)"
  }
 },
 "nbformat": 4,
 "nbformat_minor": 2,
 "cells": [
  {
   "cell_type": "code",
   "execution_count": null,
   "metadata": {},
   "outputs": [],
   "source": []
  },
  {
   "cell_type": "markdown",
   "metadata": {},
   "source": [
    "# Week 1\n",
    "## Array\n",
    "* *contiguous* area of memory \n",
    "* consisting of *equal* size elements\n",
    "* indexed by *contiguous* integer\n",
    "* *Constant* time ($O(1)$) access to any particular element in array for read and write because of simple airthmatic requirement to find the address of element. \n",
    "* Expensive for adition or removal of element except from end\n",
    "* Times for common operations:\n",
    "\n",
    "  |          | Add    | Remove |\n",
    "  | -------- | ------ | ------ |\n",
    "  | Begining | $O(n)$ | $O(n)$ |\n",
    "  | Middle   | $O(n)$ | $O(n)$ |\n",
    "  | End      | $O(1)$ | $O(1)$ |\n",
    "\n",
    "\n",
    "## Linked Lists\n",
    "* Linked-lists are made of a head and nodes and optionally a tail\n",
    "* Head contains the pointer to first node\n",
    "*  Tail contains the pointer to last node\n",
    "*  Nodes contins key and pointer(s)\n",
    "* Head, tail and nodes need not be contiguous\n",
    "* Below are Linked-list's type based on the type of node it consist\n",
    "  \n",
    "### Singly-Linked Lists\n",
    "* Each node contains key (value) and pointer to next node\n",
    "* Time complexity on operations on Singly-Linked List:\n",
    "\n",
    "   | Singly-Linked list   | no tail | with tail |\n",
    "   | -------------------- | ------- | --------- |\n",
    "   | PushFront(key)       | $O(1)$  | $O(1)$    |\n",
    "   | Key TopFront         | $O(1)$  | $O(1)$    |\n",
    "   | PopFront()           | $O(1)$  | $O(1)$    |\n",
    "   | PushBack(key)        | $O(n)$  | $O(1)$    |\n",
    "   | Key TopBack          | $O(n)$  | $O(1)$    |\n",
    "   | PopBack              | $O(n)$  | $O(n)$    |\n",
    "   | Boolean Find(key)    | $O(n)$  | $O(n)$    |\n",
    "   | Erase(key)           | $O(n)$  | $O(n)$    |\n",
    "   | Boolean Empty()      | $O(1)$  | $O(1)$    |\n",
    "   | AddBefore(node, key) | $O(n)$  | $O(n)$    |\n",
    "   | AddAfter(node, key)  | $O(1)$  | $O(1)$    |\n",
    "\n",
    "### Doubly-Linked Lists\n",
    "* Each node contains key and  two pointers, one pointing to the  next elelment and other to the previous element\n",
    "* With doubly linked list PopBack() with tail and Addbefore(node, key) becomes $O(1)$ operation\n",
    "* Hence, double-linked list with tail is cheap to add or remove element from anywhere in the list. Accessing elements from front (always) and back (given that it has tail) of the linked list is cheap whereas accessing elements from middle is expensive.\n",
    "\n",
    "\n",
    "## Reading Resources:\n",
    "* Thomas H. Cormen, Charles E. Leiserson, Ronald L. Rivest, Clifford Stein. Introduction to Algorithms (3rd Edition). MIT Press and McGraw-Hill. 2009.\n",
    "  * Chapter 10.2\n"
   ]
  },
  {
   "cell_type": "code",
   "execution_count": null,
   "metadata": {},
   "outputs": [],
   "source": []
  }
 ]
}